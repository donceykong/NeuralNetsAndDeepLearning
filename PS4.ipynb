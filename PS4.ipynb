{
 "cells": [
  {
   "cell_type": "markdown",
   "id": "656e670d",
   "metadata": {},
   "source": [
    "## Doncey Albin\n",
    "\n",
    "Help for this assignment was made possible though Towards Data Science at this [link](https://towardsdatascience.com/illustrated-self-attention-2d627e33b20a).\n",
    "\n",
    "![gif](https://miro.medium.com/max/1400/1*_92bnsMJy8Bl539G4v93yg.gif)"
   ]
  },
  {
   "cell_type": "code",
   "execution_count": 1,
   "id": "44fb6fab",
   "metadata": {},
   "outputs": [],
   "source": [
    "'''\n",
    "Code made by Doncey Albin\n",
    "'''\n",
    "\n",
    "# Set up matrices\n",
    "\n",
    "import numpy as np\n",
    "\n",
    "input_a = [0,1,1]\n",
    "input_b = [1,2,0]\n",
    "\n",
    "query_weights = np.array([[2,0],\n",
    "                          [2,1],\n",
    "                          [1,2]])\n",
    "\n",
    "key_weights = np.array([[0,1],\n",
    "                        [1,2],\n",
    "                        [0,1]])\n",
    "\n",
    "value_weights = np.array([[1,0],\n",
    "                          [1,1],\n",
    "                          [2,1]])"
   ]
  },
  {
   "cell_type": "markdown",
   "id": "37b654c5",
   "metadata": {},
   "source": [
    "# Decode using query weights"
   ]
  },
  {
   "cell_type": "code",
   "execution_count": 2,
   "id": "7d9381ed",
   "metadata": {},
   "outputs": [],
   "source": [
    "# Decode using Query weights: Method\n",
    "\n",
    "def calc_query(input):\n",
    "    i = input\n",
    "\n",
    "    q0 = query_weights[:,[0]].T[0]\n",
    "    q1 = query_weights[:,[1]].T[0]\n",
    "\n",
    "    query0 = np.dot(i,q0)\n",
    "    query1 = np.dot(i,q1)\n",
    "\n",
    "    query = [query0,query1]\n",
    "\n",
    "    return query"
   ]
  },
  {
   "cell_type": "code",
   "execution_count": 3,
   "id": "512a0cd1",
   "metadata": {},
   "outputs": [
    {
     "name": "stdout",
     "output_type": "stream",
     "text": [
      "Input A query: [3, 3]\n",
      "Input B query: [6, 2]\n"
     ]
    }
   ],
   "source": [
    "# Calculate queries per input\n",
    "\n",
    "query1 = calc_query(input_a)\n",
    "print(\"Input A query: {}\".format(query1))\n",
    "\n",
    "query2 = calc_query(input_b)\n",
    "print(\"Input B query: {}\".format(query2))"
   ]
  },
  {
   "cell_type": "markdown",
   "id": "007469b3",
   "metadata": {},
   "source": [
    "# Calculate Keys per input"
   ]
  },
  {
   "cell_type": "code",
   "execution_count": 4,
   "id": "23f6006d",
   "metadata": {},
   "outputs": [],
   "source": [
    "# Keys per input: Method\n",
    "\n",
    "def calc_key(input):\n",
    "    i = input\n",
    "\n",
    "    k0 = key_weights[:,[0]].T[0]\n",
    "    k1 = key_weights[:,[1]].T[0]\n",
    "\n",
    "    key0 = np.dot(i,k0)\n",
    "    key1 = np.dot(i,k1)\n",
    "\n",
    "    key = [key0,key1]\n",
    "\n",
    "    return key"
   ]
  },
  {
   "cell_type": "code",
   "execution_count": 5,
   "id": "8168c8a2",
   "metadata": {},
   "outputs": [
    {
     "name": "stdout",
     "output_type": "stream",
     "text": [
      "Input A key: [1, 3]\n",
      "Input B key: [2, 5]\n"
     ]
    }
   ],
   "source": [
    "# Calculate keys\n",
    "\n",
    "key1 = calc_key(input_a)\n",
    "print(\"Input A key: {}\".format(key1))\n",
    "\n",
    "key2 = calc_key(input_b)\n",
    "print(\"Input B key: {}\".format(key2))"
   ]
  },
  {
   "cell_type": "markdown",
   "id": "0176e410",
   "metadata": {},
   "source": [
    "# Calculate values per input"
   ]
  },
  {
   "cell_type": "code",
   "execution_count": 6,
   "id": "b753ab71",
   "metadata": {},
   "outputs": [],
   "source": [
    "# Calculate Values Per Input: Method\n",
    "\n",
    "def calc_value(input):\n",
    "    i = input\n",
    "\n",
    "    v0 = value_weights[:,[0]].T[0]\n",
    "    v1 = value_weights[:,[1]].T[0]\n",
    "\n",
    "    value0 = np.dot(i,v0)\n",
    "    value1 = np.dot(i,v1)\n",
    "\n",
    "    value = [value0,value1]\n",
    "\n",
    "    return value"
   ]
  },
  {
   "cell_type": "code",
   "execution_count": 7,
   "id": "0bb7d250",
   "metadata": {},
   "outputs": [
    {
     "name": "stdout",
     "output_type": "stream",
     "text": [
      "Input A value: [3, 2]\n",
      "Input B value: [3, 2]\n"
     ]
    }
   ],
   "source": [
    "# Calculate values\n",
    "\n",
    "value1 = calc_value(input_a)\n",
    "print(\"Input A value: {}\".format(value1))\n",
    "\n",
    "value2 = calc_value(input_b)\n",
    "print(\"Input B value: {}\".format(value2))"
   ]
  },
  {
   "cell_type": "markdown",
   "id": "8b8d2d2a",
   "metadata": {},
   "source": [
    "# Calculate Attention Similarity Scores Using Dot-Product"
   ]
  },
  {
   "cell_type": "code",
   "execution_count": 8,
   "id": "95acfa2d",
   "metadata": {},
   "outputs": [],
   "source": [
    "# Calculate Attention score Method\n",
    "\n",
    "def calc_score(query, key):\n",
    "    q = query\n",
    "    k = key\n",
    "\n",
    "    score = np.dot(q,k)\n",
    "\n",
    "    return score"
   ]
  },
  {
   "cell_type": "code",
   "execution_count": 9,
   "id": "f91cab9c",
   "metadata": {},
   "outputs": [
    {
     "name": "stdout",
     "output_type": "stream",
     "text": [
      "Similary Scores:\n",
      "\n",
      "Input A similarity scores: [12, 21]\n",
      "Input B similarity scores: [12, 22]\n"
     ]
    }
   ],
   "source": [
    "# Calculate Attention similarty scores using dot product attention\n",
    "print(\"Similary Scores:\\n\")\n",
    "# q1 scores\n",
    "q1_scores = [calc_score(query1,key1), calc_score(query1,key2)]\n",
    "print(\"Input A similarity scores: {}\".format(q1_scores))\n",
    "\n",
    "# q2 scores\n",
    "q2_scores = [calc_score(query2,key1), calc_score(query2,key2)]\n",
    "print(\"Input B similarity scores: {}\".format(q2_scores))"
   ]
  },
  {
   "cell_type": "markdown",
   "id": "c8253da1",
   "metadata": {},
   "source": [
    "# Calculate SoftMax"
   ]
  },
  {
   "cell_type": "code",
   "execution_count": 10,
   "id": "7a5eedc3",
   "metadata": {},
   "outputs": [
    {
     "name": "stdout",
     "output_type": "stream",
     "text": [
      "Softmax using q1: [1.23394576e-04 9.99876605e-01]\n",
      "Softmax using q2: [4.53978687e-05 9.99954602e-01]\n"
     ]
    }
   ],
   "source": [
    "# softmax\n",
    "\n",
    "softmax_q1 = np.exp(q1_scores)/sum(np.exp(q1_scores))\n",
    "print(\"Softmax using q1: {}\".format(softmax_q1))\n",
    "\n",
    "softmax_q2 = np.exp(q2_scores)/sum(np.exp(q2_scores))\n",
    "print(\"Softmax using q2: {}\".format(softmax_q2))"
   ]
  },
  {
   "cell_type": "markdown",
   "id": "f9cdde59",
   "metadata": {},
   "source": [
    "# Calculate Weighted Values"
   ]
  },
  {
   "cell_type": "code",
   "execution_count": 11,
   "id": "107a5a54",
   "metadata": {},
   "outputs": [
    {
     "name": "stdout",
     "output_type": "stream",
     "text": [
      "Weighted values:\n",
      "\n",
      "Using softmax of q1\n",
      "[0.00037018 0.00024679]\n",
      "[2.99962982 1.99975321]\n",
      "\n",
      "Using softmax of q2\n",
      "[1.36193606e-04 9.07957374e-05]\n",
      "[2.99986381 1.9999092 ]\n",
      "\n"
     ]
    }
   ],
   "source": [
    "# Weighted Values\n",
    "print(\"Weighted values:\\n\")\n",
    "print(\"Using softmax of q1\")\n",
    "w1_1 = np.multiply(value1,softmax_q1[0])\n",
    "print(w1_1)\n",
    "w1_2 = np.multiply(value2,softmax_q1[1])\n",
    "print(w1_2)\n",
    "print()\n",
    "\n",
    "print(\"Using softmax of q2\")\n",
    "w2_1 = np.multiply(value1,softmax_q2[0])\n",
    "print(w2_1)\n",
    "w2_2 = np.multiply(value2,softmax_q2[1])\n",
    "print(w2_2)\n",
    "print()"
   ]
  },
  {
   "cell_type": "markdown",
   "id": "4355b56d",
   "metadata": {},
   "source": [
    "# Calculate Outputs"
   ]
  },
  {
   "cell_type": "code",
   "execution_count": 12,
   "id": "093999f1",
   "metadata": {},
   "outputs": [
    {
     "name": "stdout",
     "output_type": "stream",
     "text": [
      "Outputs:\n",
      "\n",
      "Output 1: [3.0000000000000004, 2.0]\n",
      "Output 2: [3.0000000000000004, 2.0]\n"
     ]
    }
   ],
   "source": [
    "# Calculate Output\n",
    "print(\"Outputs:\\n\")\n",
    "out1 = [w1_1[0]+w1_2[0],w1_1[1]+w1_2[1]]\n",
    "print(\"Output 1: {}\".format(out1))\n",
    "\n",
    "out2 = [w2_1[0]+w2_2[0],w2_1[1]+w2_2[1]]\n",
    "print(\"Output 2: {}\".format(out2))"
   ]
  }
 ],
 "metadata": {
  "kernelspec": {
   "display_name": "Python 3 (ipykernel)",
   "language": "python",
   "name": "python3"
  },
  "language_info": {
   "codemirror_mode": {
    "name": "ipython",
    "version": 3
   },
   "file_extension": ".py",
   "mimetype": "text/x-python",
   "name": "python",
   "nbconvert_exporter": "python",
   "pygments_lexer": "ipython3",
   "version": "3.9.7"
  }
 },
 "nbformat": 4,
 "nbformat_minor": 5
}
